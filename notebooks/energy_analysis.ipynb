{
 "cells": [
  {
   "cell_type": "code",
   "execution_count": null,
   "metadata": {
    "vscode": {
     "languageId": "plaintext"
    }
   },
   "outputs": [],
   "source": [
    "import pandas as pd\n",
    "\n",
    "def load_data(file_path):\n",
    "    \"\"\"\n",
    "    Loads the energy consumption data from a CSV file.\n",
    "\n",
    "    Args:\n",
    "        file_path (str): Path to the CSV file.\n",
    "\n",
    "    Returns:\n",
    "        pd.DataFrame: Loaded data as a pandas DataFrame.\n",
    "    \"\"\"\n",
    "    data = pd.read_csv(file_path)\n",
    "    data['DateTime'] = pd.to_datetime(data['Date'] + ' ' + data['Time'])\n",
    "    data.set_index('DateTime', inplace=True)\n",
    "    data.drop(['Date', 'Time'], axis=1, inplace=True)\n",
    "    return data\n",
    "\n",
    "def preprocess_data(data):\n",
    "    \"\"\"\n",
    "    Preprocesses the data by normalizing temperature and energy consumption.\n",
    "\n",
    "    Args:\n",
    "        data (pd.DataFrame): Raw data.\n",
    "\n",
    "    Returns:\n",
    "        pd.DataFrame: Preprocessed data.\n",
    "    \"\"\"\n",
    "    data['Temperature'] = (data['Temperature'] - data['Temperature'].min()) / (data['Temperature'].max() - data['Temperature'].min())\n",
    "    data['EnergyConsumption'] = (data['EnergyConsumption'] - data['EnergyConsumption'].min()) / (data['EnergyConsumption'].max() - data['EnergyConsumption'].min())\n",
    "    return data"
   ]
  }
 ],
 "metadata": {
  "language_info": {
   "name": "python"
  }
 },
 "nbformat": 4,
 "nbformat_minor": 2
}
